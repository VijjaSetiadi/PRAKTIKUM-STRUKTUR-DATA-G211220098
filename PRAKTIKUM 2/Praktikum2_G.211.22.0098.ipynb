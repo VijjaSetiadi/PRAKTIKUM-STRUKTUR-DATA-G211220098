{
  "nbformat": 4,
  "nbformat_minor": 0,
  "metadata": {
    "colab": {
      "provenance": []
    },
    "kernelspec": {
      "name": "python3",
      "display_name": "Python 3"
    },
    "language_info": {
      "name": "python"
    }
  },
  "cells": [
    {
      "cell_type": "markdown",
      "source": [
        "CONTOH 1 KODING TUPPLE AND DICTIONARY"
      ],
      "metadata": {
        "id": "IbohNWXUCidy"
      }
    },
    {
      "cell_type": "code",
      "execution_count": null,
      "metadata": {
        "colab": {
          "base_uri": "https://localhost:8080/"
        },
        "id": "0OrDoCRT9pcx",
        "outputId": "2c662c8a-19e9-46f5-8d11-741cb4d9f470"
      },
      "outputs": [
        {
          "output_type": "stream",
          "name": "stdout",
          "text": [
            "\n",
            "Informasi Mahasiswa vijja_setiadi:\n",
            "Nama: Vijja Setiadi\n",
            "Usia: 19\n",
            "Jurusan: Informatika\n",
            "Nilai Rata-rata: 84.33333333333333\n",
            "\n",
            "Informasi Mahasiswa aldi_nayaka:\n",
            "Nama: Aldi Nayaka\n",
            "Usia: 20\n",
            "Jurusan: Sistem Informasi\n",
            "Nilai Rata-rata: 91.66666666666667\n",
            "\n",
            "Setelah Menambahkan Mahasiswa Baru:\n",
            "\n",
            "Informasi Mahasiswa vijja_setiadi:\n",
            "Nama: Vijja Setiadi\n",
            "Usia: 19\n",
            "Jurusan: Informatika\n",
            "Nilai Rata-rata: 84.33333333333333\n",
            "\n",
            "Informasi Mahasiswa aldi_nayaka:\n",
            "Nama: Aldi Nayaka\n",
            "Usia: 20\n",
            "Jurusan: Sistem Informasi\n",
            "Nilai Rata-rata: 91.66666666666667\n",
            "\n",
            "Informasi Mahasiswa vito_angelo:\n",
            "Nama: Vito Angelo\n",
            "Usia: 19\n",
            "Jurusan: Teknik Elektro\n",
            "Nilai Rata-rata: 81.0\n"
          ]
        }
      ],
      "source": [
        "# Contoh Tuple yang berisi informasi mahasiswa\n",
        "mahasiswa1 = ('Vijja Setiadi', 19, 'Informatika')\n",
        "mahasiswa2 = ('Aldi Nayaka', 20, 'Sistem Informasi')\n",
        "\n",
        "# Membuat Dictionary yang menyimpan informasi lebih lanjut tentang mahasiswa\n",
        "info_mahasiswa = {\n",
        "    'vijja_setiadi': {'nama': 'Vijja Setiadi', 'usia': 19, 'jurusan': 'Informatika', 'nilai': [85, 90, 78]},\n",
        "    'aldi_nayaka': {'nama': 'Aldi Nayaka', 'usia': 20, 'jurusan': 'Sistem Informasi', 'nilai': [92, 88, 95]}\n",
        "}\n",
        "\n",
        "# Fungsi untuk menghitung rata-rata nilai mahasiswa\n",
        "def hitung_rata_rata(nilai):\n",
        "    return sum(nilai) / len(nilai)\n",
        "\n",
        "# Menampilkan informasi mahasiswa\n",
        "for key, value in info_mahasiswa.items():\n",
        "    print(f\"\\nInformasi Mahasiswa {key}:\")\n",
        "    print(f\"Nama: {value['nama']}\")\n",
        "    print(f\"Usia: {value['usia']}\")\n",
        "    print(f\"Jurusan: {value['jurusan']}\")\n",
        "    print(f\"Nilai Rata-rata: {hitung_rata_rata(value['nilai'])}\")\n",
        "\n",
        "# Menambahkan mahasiswa baru ke dalam tuple dan dictionary\n",
        "mahasiswa_baru = ('Vito Angelo', 19, 'Teknik Elektro')\n",
        "info_mahasiswa['vito_angelo'] = {'nama': 'Vito Angelo', 'usia': 19, 'jurusan': 'Teknik Elektro', 'nilai': [80, 75, 88]}\n",
        "\n",
        "# Menampilkan informasi mahasiswa setelah penambahan\n",
        "print(\"\\nSetelah Menambahkan Mahasiswa Baru:\")\n",
        "for key, value in info_mahasiswa.items():\n",
        "    print(f\"\\nInformasi Mahasiswa {key}:\")\n",
        "    print(f\"Nama: {value['nama']}\")\n",
        "    print(f\"Usia: {value['usia']}\")\n",
        "    print(f\"Jurusan: {value['jurusan']}\")\n",
        "    print(f\"Nilai Rata-rata: {hitung_rata_rata(value['nilai'])}\")"
      ]
    },
    {
      "cell_type": "markdown",
      "source": [
        "CONTOH 2 KODING TUPLE AND DICTIONARY"
      ],
      "metadata": {
        "id": "vooKTl2_DiLY"
      }
    },
    {
      "cell_type": "code",
      "source": [
        "# Tuple berisi informasi tentang seorang siswa\n",
        "siswa_info = ('Gabriella Felista', 19, 'Grade 12', ['Matematika', 'Fisika', 'Kimia'])\n",
        "\n",
        "# Dictionary berisi informasi tambahan tentang mata pelajaran dan nilai siswa\n",
        "nilai_siswa = {\n",
        "    'Matematika': 90,\n",
        "    'Fisika': 85,\n",
        "    'Kimia': 88\n",
        "}\n",
        "\n",
        "# Menambahkan informasi nilai ke dalam tuple\n",
        "siswa_info_with_nilai = siswa_info + (nilai_siswa,)\n",
        "\n",
        "# Menampilkan informasi siswa dan nilai\n",
        "print(\"Informasi Siswa:\")\n",
        "print(\"Nama: \", siswa_info_with_nilai[0])\n",
        "print(\"Usia: \", siswa_info_with_nilai[1])\n",
        "print(\"Kelas: \", siswa_info_with_nilai[2])\n",
        "print(\"Mata Pelajaran: \", siswa_info_with_nilai[3])\n",
        "\n",
        "print(\"\\nNilai Siswa:\")\n",
        "for pelajaran, nilai in nilai_siswa.items():\n",
        "    print(f\"{pelajaran}: {nilai}\")\n",
        "\n",
        "# Menghitung rata-rata nilai\n",
        "rata_rata_nilai = sum(nilai_siswa.values()) / len(nilai_siswa)\n",
        "print(\"\\nRata-rata Nilai: \", rata_rata_nilai)"
      ],
      "metadata": {
        "colab": {
          "base_uri": "https://localhost:8080/"
        },
        "id": "HbchIOjWDtmE",
        "outputId": "bab701e9-762e-49c7-c5bb-bb262a0b7148"
      },
      "execution_count": null,
      "outputs": [
        {
          "output_type": "stream",
          "name": "stdout",
          "text": [
            "Informasi Siswa:\n",
            "Nama:  Gabriella Felista\n",
            "Usia:  19\n",
            "Kelas:  Grade 12\n",
            "Mata Pelajaran:  ['Matematika', 'Fisika', 'Kimia']\n",
            "\n",
            "Nilai Siswa:\n",
            "Matematika: 90\n",
            "Fisika: 85\n",
            "Kimia: 88\n",
            "\n",
            "Rata-rata Nilai:  87.66666666666667\n"
          ]
        }
      ]
    }
  ]
}