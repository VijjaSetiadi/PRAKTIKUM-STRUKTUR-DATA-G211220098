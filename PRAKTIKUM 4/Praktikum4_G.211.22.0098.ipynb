{
  "nbformat": 4,
  "nbformat_minor": 0,
  "metadata": {
    "colab": {
      "provenance": []
    },
    "kernelspec": {
      "name": "python3",
      "display_name": "Python 3"
    },
    "language_info": {
      "name": "python"
    }
  },
  "cells": [
    {
      "cell_type": "code",
      "execution_count": 2,
      "metadata": {
        "colab": {
          "base_uri": "https://localhost:8080/"
        },
        "id": "H3J24GIbEXGA",
        "outputId": "84228429-800e-4f46-fb31-523476a196f5"
      },
      "outputs": [
        {
          "output_type": "stream",
          "name": "stdout",
          "text": [
            "\"Olahragawan fahombe yang loncat sampai zakarnya jatuh ke Queensland diliput Vox\"\n",
            "\n",
            "kalimat termasuk pangram\n"
          ]
        }
      ],
      "source": [
        "# Program Python untuk memeriksa apakah string yang diberikan adalah pangram atau bukan\n",
        "# Pangram adalah kalimat yang menggunakan seluruh huruf abjad\n",
        "def checkPangram(s):\n",
        "    List = []\n",
        " # Inisialisasi list dengan 26 elemen False untuk melacak keberadaan huruf dalam alfabet\n",
        "    for i in range(26):\n",
        "        List.append(False)\n",
        " # Iterasi melalui setiap karakter dalam string yang telah dikonversi ke huruf kecil\n",
        "    for c in s.lower():\n",
        "      # Memastikan karakter bukan spasi\n",
        "      if not c == \" \":\n",
        "        # Menandai keberadaan huruf dalam list\n",
        "        List[ord(c) - ord('a')] = True\n",
        "\n",
        "    # Iterasi melalui list dan mengembalikan False jika ada huruf yang tidak ditemukan\n",
        "    for ch in List:\n",
        "      if ch == False:\n",
        "        return False\n",
        "    # Jika semua huruf ditemukan, mengembalikan True\n",
        "    return True\n",
        "# String yang akan diperiksa apakah merupakan pangram atau bukan\n",
        "kalimat = \"Olahragawan fahombe yang loncat sampai zakarnya jatuh ke Queensland diliput Vox\"\n",
        "\n",
        "# Memanggil fungsi checkPangram dengan string sebagai argumen\n",
        "if (checkPangram(kalimat)):\n",
        "    print('\"'+kalimat+'\"')\n",
        "    print(\"\\nkalimat termasuk pangram\")\n",
        "else:\n",
        "    print('\"'+kalimat+'\"')\n",
        "    print(\"\\nkalimat bukan termasuk pangram\")"
      ]
    }
  ]
}