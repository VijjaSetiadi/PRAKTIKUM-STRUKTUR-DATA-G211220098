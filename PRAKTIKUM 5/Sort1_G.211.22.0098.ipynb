{
  "nbformat": 4,
  "nbformat_minor": 0,
  "metadata": {
    "colab": {
      "provenance": []
    },
    "kernelspec": {
      "name": "python3",
      "display_name": "Python 3"
    },
    "language_info": {
      "name": "python"
    }
  },
  "cells": [
    {
      "cell_type": "code",
      "execution_count": 7,
      "metadata": {
        "colab": {
          "base_uri": "https://localhost:8080/"
        },
        "id": "SvCJeZsEnhd-",
        "outputId": "f78508d7-eeca-4b23-c01a-05ce4ffe2c97"
      },
      "outputs": [
        {
          "output_type": "stream",
          "name": "stdout",
          "text": [
            "Array yang telah diurutkan adalah:\n",
            "1\n",
            "2\n",
            "34\n",
            "90\n",
            "129\n",
            "244\n",
            "555\n"
          ]
        }
      ],
      "source": [
        "# Program Python untuk implementasi Pengurutan Bubble\n",
        "\n",
        "# Mendefinisikan fungsi\n",
        "def pengurutanBubble(arr):\n",
        "    a = len(arr) # Menghitung panjang array\n",
        "    for i in range(a): # Memulai perulangan luar yang beriterasi dari 0 hingga panjang array (a).\n",
        "        for j in range(0, a-i-1): # Memulai perulangan dalam yang beriterasi dari 0 hingga (a - i - 1).\n",
        "            if arr[j] > arr[j+1] : # Memeriksa apakah elemen pada indeks j dalam array lebih besar dari elemen pada indeks j+1.\n",
        "                arr[j], arr[j+1] = arr[j+1], arr[j] # Jika kondisi pada baris sebelumnya benar, menukar elemen pada indeks j dan j+1 dalam array.\n",
        "\n",
        "\n",
        "# Menginisialisasi array\n",
        "arr = [129, 244, 555, 2, 34, 1, 90]\n",
        "\n",
        "# Memanggil fungsi\n",
        "pengurutanBubble(arr)\n",
        "\n",
        "# Mencetak array yang sudah diurutkan\n",
        "print (\"Array yang telah diurutkan adalah:\")\n",
        "for i in range(len(arr)): # Memulai perulangan yang mengiterasi melalui array yang sudah diurutkan.\n",
        "    print (\"%d\" %arr[i]), # Mencetak setiap elemen dari array yang sudah diurutkan dalam satu baris."
      ]
    },
    {
      "cell_type": "code",
      "source": [
        "# Program Python untuk implementasi Pengurutan Selection\n",
        "\n",
        "# Mengimpor modul sys\n",
        "import sys\n",
        "# Menginisialisasi array\n",
        "x = [35, 52, 42, 22, 234]\n",
        "\n",
        "for i in range(len(x)):# Memulai loop yang iterasi melalui indeks array x.\n",
        "\n",
        "    idx_kcl = i # Menginisialisasi variabel idx_kcl ke indeks saat ini i.\n",
        "    for j in range(i+1, len(x)): # Memulai loop lain yang iterasi melalui indeks dimulai dari i+1 hingga akhir array.\n",
        "        if x[idx_kcl] > x[j]: # Memeriksa apakah elemen pada indeks minimum saat ini idx_kcl lebih besar dari elemen pada indeks j.\n",
        "            idx_kcl = j # Jika kondisinya benar, memperbarui indeks minimum idx_kcl menjadi j.\n",
        "\n",
        "    x[i], x[idx_kcl] = x[idx_kcl], x[i] # Menukar elemen pada indeks i dengan elemen minimum yang ditemukan dalam loop terdalam.\n",
        "\n",
        "print (\"Array yang telah diurutkan adalah:\") # Mencetak pesan\n",
        "for i in range(len(x)): # Memulai loop untuk mengiterasi melalui array yang sudah diurutkan.\n",
        "    print(\"%d\" %x[i],end=\" , \") # Mencetak setiap elemen array yang sudah diurutkan dengan koma dan spasi di akhir."
      ],
      "metadata": {
        "colab": {
          "base_uri": "https://localhost:8080/"
        },
        "id": "blUXfHlssKvi",
        "outputId": "33dc89b8-4c37-411b-98d2-0794725f78ef"
      },
      "execution_count": 6,
      "outputs": [
        {
          "output_type": "stream",
          "name": "stdout",
          "text": [
            "Array yang telah diurutkan adalah:\n",
            "22 , 35 , 42 , 52 , 234 , "
          ]
        }
      ]
    },
    {
      "cell_type": "code",
      "source": [
        "# Program Python untuk implementasi Pengurutan Insertion\n",
        "\n",
        "# Mendefinisikan Fungsi\n",
        "def pengurutanInsertion(arr):\n",
        "    n = len(arr)  # Menghitung panjang array\n",
        "    if n <= 1:\n",
        "        return  # Jika array memiliki elemen 0 atau 1, maka array sudah diurutkan, jadi kembalikan(return)\n",
        "    for i in range(1, n):  # Ulangi array mulai dari elemen kedua\n",
        "        key = arr[i]  # Simpan elemen saat ini sebagai kunci untuk dimasukkan pada posisi yang tepat\n",
        "        j = i-1\n",
        "        while j >= 0 and key < arr[j]:  # Pindahkan elemen yang lebih besar dari kunci satu posisi ke depan\n",
        "            arr[j+1] = arr[j]  # Geser elemen ke kanan\n",
        "            j -= 1\n",
        "        arr[j+1] = key  # Masukkan kunci pada posisi yang benar\n",
        "\n",
        "# Memgurutkan array dengan fungsi yang sudah didefinisikan(pengurutanInsertion)\n",
        "arr = [14, 30, 10, 7, 6]\n",
        "pengurutanInsertion(arr)\n",
        "print(\"Array yang telah diurutkan adalah:\")\n",
        "print(arr)"
      ],
      "metadata": {
        "colab": {
          "base_uri": "https://localhost:8080/"
        },
        "id": "Q1G7EzvrserO",
        "outputId": "78102b7d-fb7c-47bc-b3cf-708d0b5cc4d6"
      },
      "execution_count": 5,
      "outputs": [
        {
          "output_type": "stream",
          "name": "stdout",
          "text": [
            "Array yang telah diurutkan adalah:\n",
            "[6, 7, 10, 14, 30]\n"
          ]
        }
      ]
    }
  ]
}