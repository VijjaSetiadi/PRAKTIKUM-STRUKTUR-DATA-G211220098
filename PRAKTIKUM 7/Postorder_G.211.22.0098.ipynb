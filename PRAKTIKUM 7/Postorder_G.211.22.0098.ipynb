{
  "nbformat": 4,
  "nbformat_minor": 0,
  "metadata": {
    "colab": {
      "provenance": []
    },
    "kernelspec": {
      "name": "python3",
      "display_name": "Python 3"
    },
    "language_info": {
      "name": "python"
    }
  },
  "cells": [
    {
      "cell_type": "code",
      "execution_count": 1,
      "metadata": {
        "colab": {
          "base_uri": "https://localhost:8080/"
        },
        "id": "zIWwo07ZTLtP",
        "outputId": "8e1545cb-9a9f-4e12-ca2a-adcdb29f42a7"
      },
      "outputs": [
        {
          "output_type": "stream",
          "name": "stdout",
          "text": [
            "Postorder traversal of binary tree is\n",
            "4 5 2 3 1 "
          ]
        }
      ],
      "source": [
        "# Python3 program to for tree traversals\n",
        "\n",
        "# Mendefinisikan kelas Node yang merepresentasikan satu node dalam pohon biner\n",
        "class Node:\n",
        "    def __init__(self, key): # Metode konstruktor untuk kelas Node, yang digunakan untuk membuat instance node baru\n",
        "        self.left = None # Membuat atribut left yang akan menunjukkan anak kiri dari node (awalnya diatur sebagai None)\n",
        "        self.right = None # Membuat atribut right yang akan menunjukkan anak kanan dari node (awalnya diatur sebagai None)\n",
        "        self.val = key # Membuat atribut val yang akan menyimpan nilai kunci dari node\n",
        "\n",
        "\n",
        "# Mendefinisikan fungsi printPostorder untuk melakukan traversal postorder pada pohon biner\n",
        "def printPostorder(root):\n",
        "\n",
        "    if root: # Memeriksa apakah root tidak kosong\n",
        "\n",
        "        # Pemanggilan rekursif pertama untuk melakukan traversal postorder pada anak kiri dari node saat ini\n",
        "        printPostorder(root.left)\n",
        "\n",
        "        # Pemanggilan rekursif kedua untuk melakukan traversal postorder pada anak kanan dari node saat ini\n",
        "        printPostorder(root.right)\n",
        "\n",
        "        # Mencetak nilai kunci dari node saat ini\n",
        "        print(root.val, end=\" \"),\n",
        "\n",
        "\n",
        "# Driver code\n",
        "if __name__ == \"__main__\": # Memeriksa apakah skrip ini dijalankan sebagai program utama\n",
        "    root = Node(1) # Membuat pohon biner dengan akar memiliki nilai kunci 1\n",
        "    root.left = Node(2) # Menambahkan anak kiri dari akar dengan nilai kunci 2\n",
        "    root.right = Node(3) # Menambahkan anak kanan dari akar dengan nilai kunci 3\n",
        "    root.left.left = Node(4) # Menambahkan anak kiri dari node dengan nilai kunci 2 dengan nilai kunci 4\n",
        "    root.left.right = Node(5) #  Menambahkan anak kanan dari node dengan nilai kunci 2 dengan nilai kunci 5\n",
        "\n",
        "    # Pemanggilan fungsi\n",
        "    print(\"Postorder traversal of binary tree is\") # Mencetak pesan sebelum melakukan pemanggilan fungsi traversal\n",
        "    printPostorder(root) # Pemanggilan fungsi printPostorder untuk melakukan traversal postorder pada pohon biner yang telah dibuat"
      ]
    }
  ]
}