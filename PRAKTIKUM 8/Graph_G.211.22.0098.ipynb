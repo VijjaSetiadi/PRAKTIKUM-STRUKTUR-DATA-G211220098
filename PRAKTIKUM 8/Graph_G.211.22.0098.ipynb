{
  "nbformat": 4,
  "nbformat_minor": 0,
  "metadata": {
    "colab": {
      "provenance": []
    },
    "kernelspec": {
      "name": "python3",
      "display_name": "Python 3"
    },
    "language_info": {
      "name": "python"
    }
  },
  "cells": [
    {
      "cell_type": "code",
      "execution_count": 1,
      "metadata": {
        "colab": {
          "base_uri": "https://localhost:8080/"
        },
        "id": "HaxBN3pRaP6a",
        "outputId": "cdc56c3f-9df4-4a3b-adef-aa1da642d1f0"
      },
      "outputs": [
        {
          "output_type": "stream",
          "name": "stdout",
          "text": [
            "Node \tJarak dari 0\n",
            "0 \t 0\n",
            "1 \t 2\n",
            "2 \t 6\n",
            "3 \t 7\n",
            "4 \t 17\n",
            "5 \t 22\n",
            "6 \t 19\n"
          ]
        }
      ],
      "source": [
        "class Graf():\n",
        "    # Konstruktor untuk menginisialisasi nilai-nilai\n",
        "    def __init__(self, nodes):\n",
        "        # Inisialisasi jarak array\n",
        "        self.distArray = [0 for i in range(nodes)]\n",
        "        # Inisialisasi set node yang telah lewati\n",
        "        self.vistSet = [0 for i in range(nodes)]\n",
        "        # Inisialisasi jumlah node\n",
        "        self.V = nodes\n",
        "        # Inisialisasi nilai tak terhingga\n",
        "        self.INF = 1000000\n",
        "        # Inisialisasi graf matriks\n",
        "        self.graph = [[0 for kolom in range(nodes)]\n",
        "                      for baris in range(nodes)]\n",
        "\n",
        "    def dijkstra(self, srcNode):\n",
        "        for i in range(self.V):\n",
        "            # Inisialisasi jarak menjadi tak terhingga terlebih dahulu\n",
        "            self.distArray[i] = self.INF\n",
        "            # Atur set node yang telah dilewati menjadi False untuk setiap node\n",
        "            self.vistSet[i] = False\n",
        "        # Inisialisasi jarak pertama menjadi 0\n",
        "        self.distArray[srcNode] = 0\n",
        "        for i in range(self.V):\n",
        "\n",
        "            # Pilih node dengan jarak minimum dari\n",
        "            # himpunan node yang belum diproses.\n",
        "            # 'u' selalu sama dengan srcNode pada iterasi pertama\n",
        "            u = self.minDistance(self.distArray, self.vistSet)\n",
        "\n",
        "            # Masukkan node dengan jarak minimum ke dalam\n",
        "            # himpunan node yang telah dikunjungi\n",
        "            self.vistSet[u] = True\n",
        "\n",
        "            # Perbarui dist[v] hanya jika v tidak ada di dalam vistSet, ada tepi dari\n",
        "            # 'u' ke 'v', dan total bobot dari src ke 'v' melalui 'u'\n",
        "            # lebih kecil dari nilai dist[v] saat ini\n",
        "            for v in range(self.V):\n",
        "                if self.graph[u][v] > 0 and self.vistSet[v] == False and self.distArray[v] > self.distArray[u] + self.graph[u][v]:\n",
        "                    self.distArray[v] = self.distArray[u] + self.graph[u][v]\n",
        "\n",
        "        self.printSolution(self.distArray)\n",
        "\n",
        "    # Fungsi bantu untuk menemukan node dengan nilai jarak minimum, dari\n",
        "    # himpunan node yang belum termasuk dalam pohon jalur terpendek\n",
        "    def minDistance(self, distArray, vistSet):\n",
        "\n",
        "        # Inisialisasi jarak minimum untuk node selanjutnya\n",
        "        min = self.INF\n",
        "\n",
        "        # Cari node terdekat yang belum ada di\n",
        "        # node yang belum dikunjungi\n",
        "        for v in range(self.V):\n",
        "            if distArray[v] < min and vistSet[v] == False:\n",
        "                min = distArray[v]\n",
        "                min_index = v\n",
        "\n",
        "        return min_index\n",
        "\n",
        "    def printSolution(self, distArray):\n",
        "        print(\"Node \\tJarak dari 0\")\n",
        "        for i in range(self.V):\n",
        "            print(i, \"\\t\", distArray[i])\n",
        "\n",
        "# Tampilkan graf\n",
        "menampilkanGraf = Graf(7)\n",
        "menampilkanGraf.graph = [[0, 2, 6, 0, 0, 0, 0],\n",
        "                  [2, 0, 0, 5, 0, 0, 0],\n",
        "                  [6, 6, 0, 8, 0, 0, 0],\n",
        "                  [0, 0, 8, 0, 10, 15, 0],\n",
        "                  [0, 0, 0, 10, 0, 6, 2],\n",
        "                  [0, 0, 0, 15, 6, 0, 6],\n",
        "                  [0, 0, 0, 0, 2, 6, 0],\n",
        "                  ]\n",
        "\n",
        "menampilkanGraf.dijkstra(0)"
      ]
    }
  ]
}